{
 "cells": [
  {
   "cell_type": "markdown",
   "metadata": {},
   "source": [
    "## NetCat\n",
    "\n",
    "Netcat o nc es una herramienta utilizada para supervisar y escribir sobre conexiones tanto TCP como UDP.\n",
    "Puede abrir conexiones TCP, enviar paquetes UDP, escuchar peticiones sobre puertos arbitrarios tanto TCP\n",
    "como UDP, permite supervisar puertos abiertos y otras muchas cosas más, tanto para IPv4 como IPv6. Es una\n",
    "de las herramientas de diagnóstico y seguridad más populares"
   ]
  },
  {
   "cell_type": "markdown",
   "metadata": {},
   "source": [
    "#### Instalacion\n",
    "```sudo apt-get install -y netcat```\n",
    "\n",
    "#### Manual\n",
    "```man nc```\n",
    "\n",
    "```nc -h```"
   ]
  },
  {
   "cell_type": "markdown",
   "metadata": {},
   "source": [
    "#### Conexiones Simples\n",
    "\n",
    "Ejecute nc seguido de una dirección IP y un puerto al cual conectarse para iniciar una conexión hacia algún\n",
    "puerto en algún sistema. En el siguiente ejemplo se realizará una conexión hacia el puerto 25 (SMTP) de\n",
    "127.0.0.1:\n",
    "\n",
    "- Servidor \n",
    "\n",
    "```sudo nc 192.168.0.23 87```\n"
   ]
  },
  {
   "cell_type": "markdown",
   "metadata": {},
   "source": [
    "#### Revisando Puertos\n",
    "ejecutar nc con las opciones -vz y la dirección IP si se quiere revisar puertos TCP abiertos y un puerto o rango de puertos\n",
    "\n",
    "- ```nc -vz 127.0.0.1 20-25```\n",
    "\n",
    "```nc -vz 192.168.0.23 20-25```\n",
    "\n",
    "Salida:\n",
    "\n",
    "- \n",
    "```nc: connect to 127.0.0.1 port 20 (tcp) failed: Connection refused\n",
    "Connection to 127.0.0.1 21 port [tcp/ftp] succeeded!\n",
    "Connection to 127.0.0.1 22 port [tcp/ssh] succeeded!\n",
    "nc: connect to 127.0.0.1 port 23 (tcp) failed: Connection refused\n",
    "nc: connect to 127.0.0.1 port 24 (tcp) failed: Connection refused\n",
    "Connection to 127.0.0.1 25 port [tcp/smtp] succeeded!```\n",
    "\n",
    "nc -vzu para puertos UDP abiertos, donde la opción -v define se devuelva una salida más descriptiva.\n",
    "\n",
    "- ```nc -vzu 127.0.0.1 21-80```\n",
    "\n",
    "```nc -vzu 192.168.0.23 21-80```\n",
    "\n",
    "Salida: \n",
    "\n",
    "- ```Connection to 127.0.0.1 68 port [udp/bootpc] succeeded!```"
   ]
  },
  {
   "cell_type": "markdown",
   "metadata": {},
   "source": [
    "#### Transfiriendo Datos\n"
   ]
  },
  {
   "cell_type": "markdown",
   "metadata": {},
   "source": [
    "- Conexion Cliente servidor\n",
    "\n",
    "Ejecute nc con la opcion -l (listen - escuchar) Seguida de un numero de puerto\n",
    "\n",
    "- ```nc -l 2222```\n",
    "\n",
    "En el cliente para establecer la conexion ejecute nc con argumentos como la direccion ip y el puerto\n",
    "\n",
    "- ```nc 192.168.0.24```\n",
    "\n",
    "\n",
    "Es posible transferir datos desde el cliente al servidor a traves de archivos\n",
    "\n",
    "\n",
    "- Creamos un archivo en el cliente\n",
    "    \n",
    "```nano algo.in``` -> Ingresamos algunos datos\n",
    "    \n",
    "- Creamos tambien un archivo en el servidor \n",
    "    \n",
    "```touch algo.out```\n",
    "    \n",
    "- Creamos la conexion el servidor apuntado al archivo\n",
    "    \n",
    "```nc -l 2222 > algo.out```\n",
    "    \n",
    "- Establecemos la conexion en el cliente apuntando al archivo que mandamos\n",
    "    \n",
    "```nc 192.168.0.1 < algo.in```\n",
    "\n",
    "------------------------------------------------------------------------------------------------------------------\n",
    "\n",
    "1. ```sudo nc -l -p 87```\n",
    "2. Desde el local\n",
    "```nc 192.168.0.23 87```\n",
    "3. Comienza a escribir"
   ]
  },
  {
   "cell_type": "markdown",
   "metadata": {},
   "source": [
    "------------------------------------------------------------------------------------------------------------------"
   ]
  },
  {
   "cell_type": "markdown",
   "metadata": {},
   "source": [
    "#### Netcat y un simple servidor\n",
    "\n",
    "- Creamos un archivo index.html en el servidor \n",
    "\n",
    "```nano index.html```\n",
    "\n",
    "- Ingresamos lo siguiente\n",
    "\n",
    "```\n",
    "<html>\n",
    "        <head>\n",
    "                <title>Test Page</title>\n",
    "        </head>\n",
    "        <body>\n",
    "                <h1>Level 1 header</h1>\n",
    "                <h2>Subheading</h2>\n",
    "                <p>Normal text here</p>\n",
    "        </body>\n",
    "</html>\n",
    "```\n",
    "\n",
    "- Ahora ingresamos este comando\n",
    "\n",
    "```printf 'HTTP/1.1 200 OK\\n\\n%s' \"$(cat index.html)\" | netcat -l 8888 ```\n",
    "\n",
    "- Desde el cliente ingresamos al nevagador por\n",
    "\n",
    "```192.168.0.24:8888```\n",
    "\n",
    "- Vemos nuestra pagina web\n"
   ]
  },
  {
   "cell_type": "markdown",
   "metadata": {},
   "source": [
    "### Referencias\n",
    "> 1. *Joel Barrios, Alcance Libre \"Configuracion de servidores con GNU/Linux\", Enero 2017*\n",
    "2. [*Security through hacking NetCat – The Swiss Army Knife*](https://www.win.tue.nl/~aeb/linux/hh/netcat_tutorial.pdf)\n",
    "3. [*Netcat tutorial – command examples on linux*](https://www.binarytides.com/netcat-tutorial-for-beginners/)\n",
    "4. [*How To Use Netcat to Establish and Test TCP and UDP*](https://www.digitalocean.com/community/tutorials/how-to-use-netcat-to-establish-and-test-tcp-and-udp-connections-on-a-vps)"
   ]
  },
  {
   "cell_type": "code",
   "execution_count": null,
   "metadata": {},
   "outputs": [],
   "source": []
  }
 ],
 "metadata": {
  "kernelspec": {
   "display_name": "Python 3",
   "language": "python",
   "name": "python3"
  },
  "language_info": {
   "codemirror_mode": {
    "name": "ipython",
    "version": 3
   },
   "file_extension": ".py",
   "mimetype": "text/x-python",
   "name": "python",
   "nbconvert_exporter": "python",
   "pygments_lexer": "ipython3",
   "version": "3.7.3"
  }
 },
 "nbformat": 4,
 "nbformat_minor": 2
}
